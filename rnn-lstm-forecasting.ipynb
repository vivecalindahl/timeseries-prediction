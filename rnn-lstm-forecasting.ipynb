{
 "cells": [
  {
   "cell_type": "markdown",
   "id": "30d5340b",
   "metadata": {},
   "source": [
    "# About\n",
    "Here I want to explore different machine learning models for timeseries prediction. I use a real timeseries dataset that I found on from [Kaggle](www.kaggle.com).\n",
    "\n",
    "I worked on this while taking the [DeepLearning.AI course \"Sequences, Time Series and Prediction\"](https://www.coursera.org/learn/tensorflow-sequences-time-series-and-prediction).\n",
    "\n",
    "## Concepts covered\n",
    "* Univariate timeseries\n",
    "* Deep neural networks\n",
    "* Recurrent neural networks (RNN)\n",
    "* LSTM (Long short-term Memory) models\n",
    "* Multilayer perceptron (MLP) model\n",
    "* Convolutional layers\n",
    "\n",
    "## Tools used\n",
    "* Tensorfow: `tf.data.Dataset`, `tf.keras.Sequential`\n",
    "* Kaggle API\n",
    "* Pandas"
   ]
  },
  {
   "cell_type": "markdown",
   "id": "e5149e9f",
   "metadata": {},
   "source": [
    "# Imports, setup"
   ]
  },
  {
   "cell_type": "code",
   "execution_count": 156,
   "id": "465af781",
   "metadata": {},
   "outputs": [],
   "source": [
    "import numpy as np\n",
    "import matplotlib.pyplot as plt\n",
    "import tensorflow as tf\n",
    "import pandas as pd\n",
    "from kaggle.api.kaggle_api_extended import KaggleApi\n",
    "import seaborn as sns"
   ]
  },
  {
   "cell_type": "markdown",
   "id": "a7e3dae8-b71b-4e45-a6f4-71546461f535",
   "metadata": {},
   "source": [
    "## Download data from Kaggle\n",
    "This step requires using the [Kaggle API](https://github.com/Kaggle/kaggle-api) and authenticating using the API credentials. In order to focus on model concepts rather than digging into the data, I pick a well-studied dataset: [monthly sunspot activity](https://www.kaggle.com/robervalt/sunspots/activity). This is the most popular sunspot dataset on Kaggle."
   ]
  },
  {
   "cell_type": "code",
   "execution_count": 157,
   "id": "c86dd184-535d-4615-b443-0eafdbe36e70",
   "metadata": {},
   "outputs": [
    {
     "name": "stdout",
     "output_type": "stream",
     "text": [
      "\"Sunspots\": \n",
      "\t votes: 84; views: 23606; https://www.kaggle.com/robervalt/sunspots\n",
      "\"Daily Sun Spot Data (1818 to 2019)\": \n",
      "\t votes: 22; views: 4416; https://www.kaggle.com/abhinand05/daily-sun-spot-data-1818-to-2019\n",
      "\"climate change\": \n",
      "\t votes: 15; views: 7486; https://www.kaggle.com/econdata/climate-change\n",
      "\"NASA and NOAA  Satellites Solar-Wind Dataset\": \n",
      "\t votes: 8; views: 844; https://www.kaggle.com/arashnic/soalr-wind\n",
      "\"RiseInTemp_dataset\": \n",
      "\t votes: 6; views: 2403; https://www.kaggle.com/vageeshabudanur/riseintemp-dataset\n",
      "\"Monthly Sunspots\": \n",
      "\t votes: 0; views: 212; https://www.kaggle.com/hugoherrera11/monthly-sunspots\n",
      "\"Sunspots\": \n",
      "\t votes: 0; views: 95; https://www.kaggle.com/parichatapi/sunspots\n",
      "\"pyspark-library\": \n",
      "\t votes: 0; views: 76; https://www.kaggle.com/rhtsingh/pysparklibrary\n"
     ]
    }
   ],
   "source": [
    "api = KaggleApi()\n",
    "try:\n",
    "    api.authenticate()\n",
    "except Exception as e:\n",
    "    print(\"Kaggle authentication failed!\")\n",
    "    raise e\n",
    "\n",
    "sunspot_datasets = api.datasets_list(search='sunspots')\n",
    "sunspot_datasets.sort(key=lambda d: (d['voteCount'], d['viewCount']), reverse=True)\n",
    "\n",
    "for d in sunspot_datasets:\n",
    "    # d is a dict\n",
    "    print(f\"\\\"{d['title']}\\\": \\n\\t votes: {d['voteCount']}; views: {d['viewCount']}; {d['url']}\")"
   ]
  },
  {
   "cell_type": "code",
   "execution_count": 158,
   "id": "dec32243-1da0-4473-848f-1cb6866a6286",
   "metadata": {},
   "outputs": [
    {
     "name": "stdout",
     "output_type": "stream",
     "text": [
      "Files in dataset \"robervalt/sunspots\": [Sunspots.csv]\n",
      "Sunspots.csv\n"
     ]
    }
   ],
   "source": [
    "ref=\"robervalt/sunspots\" \n",
    "datafiles = api.dataset_list_files(ref).files\n",
    "print(f\"Files in dataset \\\"{ref}\\\": {datafiles}\")\n",
    "\n",
    "# Download and unzip dataset into current directory\n",
    "api.dataset_download_files(ref, unzip=True)\n",
    "csv_file = str(datafiles[0])\n",
    "!ls {csv_file}"
   ]
  },
  {
   "cell_type": "markdown",
   "id": "2b82ddc2-5c15-4cec-86ff-9cfb79509dd8",
   "metadata": {},
   "source": [
    "The dataset is a basic univariate timeseries, just dates and monthly sunspot numbers:"
   ]
  },
  {
   "cell_type": "code",
   "execution_count": 159,
   "id": "9f9e8798-03e4-4116-a00d-0b4c3f0c62c7",
   "metadata": {},
   "outputs": [
    {
     "data": {
      "text/html": [
       "<div>\n",
       "<style scoped>\n",
       "    .dataframe tbody tr th:only-of-type {\n",
       "        vertical-align: middle;\n",
       "    }\n",
       "\n",
       "    .dataframe tbody tr th {\n",
       "        vertical-align: top;\n",
       "    }\n",
       "\n",
       "    .dataframe thead th {\n",
       "        text-align: right;\n",
       "    }\n",
       "</style>\n",
       "<table border=\"1\" class=\"dataframe\">\n",
       "  <thead>\n",
       "    <tr style=\"text-align: right;\">\n",
       "      <th></th>\n",
       "      <th>Unnamed: 0</th>\n",
       "      <th>Date</th>\n",
       "      <th>Monthly Mean Total Sunspot Number</th>\n",
       "    </tr>\n",
       "  </thead>\n",
       "  <tbody>\n",
       "    <tr>\n",
       "      <th>0</th>\n",
       "      <td>0</td>\n",
       "      <td>1749-01-31</td>\n",
       "      <td>96.7</td>\n",
       "    </tr>\n",
       "    <tr>\n",
       "      <th>1</th>\n",
       "      <td>1</td>\n",
       "      <td>1749-02-28</td>\n",
       "      <td>104.3</td>\n",
       "    </tr>\n",
       "    <tr>\n",
       "      <th>2</th>\n",
       "      <td>2</td>\n",
       "      <td>1749-03-31</td>\n",
       "      <td>116.7</td>\n",
       "    </tr>\n",
       "    <tr>\n",
       "      <th>3</th>\n",
       "      <td>3</td>\n",
       "      <td>1749-04-30</td>\n",
       "      <td>92.8</td>\n",
       "    </tr>\n",
       "    <tr>\n",
       "      <th>4</th>\n",
       "      <td>4</td>\n",
       "      <td>1749-05-31</td>\n",
       "      <td>141.7</td>\n",
       "    </tr>\n",
       "  </tbody>\n",
       "</table>\n",
       "</div>"
      ],
      "text/plain": [
       "   Unnamed: 0        Date  Monthly Mean Total Sunspot Number\n",
       "0           0  1749-01-31                               96.7\n",
       "1           1  1749-02-28                              104.3\n",
       "2           2  1749-03-31                              116.7\n",
       "3           3  1749-04-30                               92.8\n",
       "4           4  1749-05-31                              141.7"
      ]
     },
     "execution_count": 159,
     "metadata": {},
     "output_type": "execute_result"
    }
   ],
   "source": [
    "df = pd.read_csv(csv_file)\n",
    "df.head()"
   ]
  },
  {
   "cell_type": "code",
   "execution_count": 160,
   "id": "2e6bb70c-ce0c-4567-b83a-92b3ab99c438",
   "metadata": {},
   "outputs": [
    {
     "name": "stdout",
     "output_type": "stream",
     "text": [
      "        date  sunspots\n",
      "0 1749-01-31      96.7\n",
      "1 1749-02-28     104.3\n",
      "2 1749-03-31     116.7\n",
      "3 1749-04-30      92.8\n",
      "4 1749-05-31     141.7\n"
     ]
    }
   ],
   "source": [
    "df = df.drop(columns=df.columns[0]).rename(\n",
    "    columns={df.columns[1]: 'date', df.columns[2]: 'sunspots'})\n",
    "df.date = pd.to_datetime(df.date)\n",
    "print(df.head())"
   ]
  },
  {
   "cell_type": "code",
   "execution_count": 161,
   "id": "c7792b0d-c0d2-4959-81cd-5f780cabbaf0",
   "metadata": {},
   "outputs": [
    {
     "name": "stdout",
     "output_type": "stream",
     "text": [
      "True\n"
     ]
    }
   ],
   "source": [
    "# Assert that the timestamp differences are monthly: either +1 month or -11 (new year, Jan-Dec)\n",
    "print(set(df.date.dt.month.diff()[1:].unique()) == {1, -11})"
   ]
  },
  {
   "cell_type": "code",
   "execution_count": 166,
   "id": "67eec712-c45a-4106-be44-b872abba6a0b",
   "metadata": {},
   "outputs": [
    {
     "data": {
      "image/png": "[encoded data removed]",
      "text/plain": [
       "<Figure size 432x288 with 1 Axes>"
      ]
     },
     "metadata": {
      "needs_background": "light"
     },
     "output_type": "display_data"
    }
   ],
   "source": [
    "sns.lineplot(data=df[::10],);"
   ]
  },
  {
   "cell_type": "code",
   "execution_count": 167,
   "id": "c78a559f-1067-47f0-be8f-b7445f6b1a6f",
   "metadata": {},
   "outputs": [
    {
     "data": {
      "text/plain": [
       "3265"
      ]
     },
     "execution_count": 167,
     "metadata": {},
     "output_type": "execute_result"
    }
   ],
   "source": [
    "len(df)"
   ]
  }
 ],
 "metadata": {
  "kernelspec": {
   "display_name": "Python 3",
   "language": "python",
   "name": "python3"
  },
  "language_info": {
   "codemirror_mode": {
    "name": "ipython",
    "version": 3
   },
   "file_extension": ".py",
   "mimetype": "text/x-python",
   "name": "python",
   "nbconvert_exporter": "python",
   "pygments_lexer": "ipython3",
   "version": "3.8.6"
  }
 },
 "nbformat": 4,
 "nbformat_minor": 5
}
